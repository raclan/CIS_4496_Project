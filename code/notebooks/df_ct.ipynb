{
 "cells": [
  {
   "cell_type": "code",
   "execution_count": null,
   "id": "10cc3b18",
   "metadata": {},
   "outputs": [],
   "source": [
    "import pandas as pd\n",
    "import numpy as np\n",
    "# read the dataset in from the excel file\n",
    "df_t = pd.read_csv('~/CIS_4496_Project/data/raw/transactions_train.csv')"
   ]
  },
  {
   "cell_type": "code",
   "execution_count": null,
   "id": "42de0fb5",
   "metadata": {},
   "outputs": [],
   "source": [
    "customer_id = []\n",
    "articles = []\n",
    "\n",
    "from datetime import datetime\n",
    "\n",
    "count = 17345 + 22830\n",
    "\n",
    "print(datetime.now())\n",
    "for c in df_t['customer_id'].unique()[count:]:\n",
    "    customer_id.append(c)\n",
    "    articles.append(list(df_t[df_t['customer_id'] == c]['article_id']))\n",
    "    count += 1\n",
    "    if count % 1000 == 0:\n",
    "        print(datetime.now(), count)"
   ]
  },
  {
   "cell_type": "code",
   "execution_count": null,
   "id": "9732adac",
   "metadata": {},
   "outputs": [],
   "source": [
    "df_ct = pd.DataFrame(columns=['customer_id', 'articles'])\n",
    "\n",
    "df_ct['customer_id'] = customer_id[:22830]\n",
    "df_ct['articles'] = articles\n",
    "\n",
    "df_ct.to_csv('df_ct3.csv',index=False)"
   ]
  }
 ],
 "metadata": {
  "kernelspec": {
   "display_name": "Python 3 (ipykernel)",
   "language": "python",
   "name": "python3"
  },
  "language_info": {
   "codemirror_mode": {
    "name": "ipython",
    "version": 3
   },
   "file_extension": ".py",
   "mimetype": "text/x-python",
   "name": "python",
   "nbconvert_exporter": "python",
   "pygments_lexer": "ipython3",
   "version": "3.8.10"
  }
 },
 "nbformat": 4,
 "nbformat_minor": 5
}
