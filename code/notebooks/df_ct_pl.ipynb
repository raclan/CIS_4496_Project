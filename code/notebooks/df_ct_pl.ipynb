{
 "cells": [
  {
   "cell_type": "code",
   "execution_count": 1,
   "id": "805fd0e4",
   "metadata": {},
   "outputs": [],
   "source": [
    "import polars as pl\n",
    "import numpy as np\n",
    "from datetime import datetime\n",
    "# read the dataset in from the excel file\n",
    "df_t = pl.read_csv('~/CIS_4496_Project/data/raw/transactions_train.csv')"
   ]
  },
  {
   "cell_type": "code",
   "execution_count": 5,
   "id": "174a7943",
   "metadata": {},
   "outputs": [
    {
     "name": "stdout",
     "output_type": "stream",
     "text": [
      "2023-03-02 15:12:36.645381\n"
     ]
    }
   ],
   "source": [
    "count = 0\n",
    "\n",
    "df_ct = pl.DataFrame(schema={\"customer_id\": str , \"articles\": pl.List(inner=pl.Int64)})\n",
    "\n",
    "print(datetime.now())\n",
    "for c in df_t['customer_id'].unique(maintain_order=True)[count:]:\n",
    "    df_ct = df_ct.vstack(pl.DataFrame([[c], [df_t.filter(pl.col('customer_id') == c)['article_id']]], schema=df_ct.schema))\n",
    "\n",
    "    count += 1\n",
    "    if count % 1000 == 0:\n",
    "        print(datetime.now(), count)"
   ]
  },
  {
   "cell_type": "code",
   "execution_count": null,
   "id": "df4cf5c2",
   "metadata": {},
   "outputs": [],
   "source": [
    "df_ct.write_csv('~/CIS_4495_project/data/pl_ct.csv')"
   ]
  }
 ],
 "metadata": {
  "kernelspec": {
   "display_name": "Python 3 (ipykernel)",
   "language": "python",
   "name": "python3"
  },
  "language_info": {
   "codemirror_mode": {
    "name": "ipython",
    "version": 3
   },
   "file_extension": ".py",
   "mimetype": "text/x-python",
   "name": "python",
   "nbconvert_exporter": "python",
   "pygments_lexer": "ipython3",
   "version": "3.8.10"
  }
 },
 "nbformat": 4,
 "nbformat_minor": 5
}
