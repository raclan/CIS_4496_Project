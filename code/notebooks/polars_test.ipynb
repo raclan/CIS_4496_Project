{
 "cells": [
  {
   "cell_type": "code",
   "execution_count": 1,
   "id": "e5794c4f",
   "metadata": {},
   "outputs": [],
   "source": [
    "import polars as pl"
   ]
  },
  {
   "cell_type": "code",
   "execution_count": 6,
   "id": "6213990e",
   "metadata": {},
   "outputs": [],
   "source": [
    "df_c = pl.read_csv('~/CIS_4496_Project/data/raw/customers.csv')"
   ]
  },
  {
   "cell_type": "code",
   "execution_count": 4,
   "id": "1de4ccfa",
   "metadata": {},
   "outputs": [
    {
     "data": {
      "text/html": [
       "<div>\n",
       "<style>\n",
       ".pl-dataframe > thead > tr > th {\n",
       "  text-align: right;\n",
       "}\n",
       "</style>\n",
       "\n",
       "<table border=\"1\" class=\"dataframe pl-dataframe\">\n",
       "<small>shape: (5, 7)</small>\n",
       "<thead>\n",
       "<tr>\n",
       "<th>\n",
       "customer_id\n",
       "</th>\n",
       "<th>\n",
       "FN\n",
       "</th>\n",
       "<th>\n",
       "Active\n",
       "</th>\n",
       "<th>\n",
       "club_member_status\n",
       "</th>\n",
       "<th>\n",
       "fashion_news_frequency\n",
       "</th>\n",
       "<th>\n",
       "age\n",
       "</th>\n",
       "<th>\n",
       "postal_code\n",
       "</th>\n",
       "</tr>\n",
       "<tr>\n",
       "<td>\n",
       "str\n",
       "</td>\n",
       "<td>\n",
       "f64\n",
       "</td>\n",
       "<td>\n",
       "f64\n",
       "</td>\n",
       "<td>\n",
       "str\n",
       "</td>\n",
       "<td>\n",
       "str\n",
       "</td>\n",
       "<td>\n",
       "i64\n",
       "</td>\n",
       "<td>\n",
       "str\n",
       "</td>\n",
       "</tr>\n",
       "</thead>\n",
       "<tbody>\n",
       "<tr>\n",
       "<td>\n",
       "&quot;00000dbacae5ab...\n",
       "</td>\n",
       "<td>\n",
       "null\n",
       "</td>\n",
       "<td>\n",
       "null\n",
       "</td>\n",
       "<td>\n",
       "&quot;ACTIVE&quot;\n",
       "</td>\n",
       "<td>\n",
       "&quot;NONE&quot;\n",
       "</td>\n",
       "<td>\n",
       "49\n",
       "</td>\n",
       "<td>\n",
       "&quot;52043ee2162cf5...\n",
       "</td>\n",
       "</tr>\n",
       "<tr>\n",
       "<td>\n",
       "&quot;0000423b00ade9...\n",
       "</td>\n",
       "<td>\n",
       "null\n",
       "</td>\n",
       "<td>\n",
       "null\n",
       "</td>\n",
       "<td>\n",
       "&quot;ACTIVE&quot;\n",
       "</td>\n",
       "<td>\n",
       "&quot;NONE&quot;\n",
       "</td>\n",
       "<td>\n",
       "25\n",
       "</td>\n",
       "<td>\n",
       "&quot;2973abc54daa8a...\n",
       "</td>\n",
       "</tr>\n",
       "<tr>\n",
       "<td>\n",
       "&quot;000058a12d5b43...\n",
       "</td>\n",
       "<td>\n",
       "null\n",
       "</td>\n",
       "<td>\n",
       "null\n",
       "</td>\n",
       "<td>\n",
       "&quot;ACTIVE&quot;\n",
       "</td>\n",
       "<td>\n",
       "&quot;NONE&quot;\n",
       "</td>\n",
       "<td>\n",
       "24\n",
       "</td>\n",
       "<td>\n",
       "&quot;64f17e6a330a85...\n",
       "</td>\n",
       "</tr>\n",
       "<tr>\n",
       "<td>\n",
       "&quot;00005ca1c9ed5f...\n",
       "</td>\n",
       "<td>\n",
       "null\n",
       "</td>\n",
       "<td>\n",
       "null\n",
       "</td>\n",
       "<td>\n",
       "&quot;ACTIVE&quot;\n",
       "</td>\n",
       "<td>\n",
       "&quot;NONE&quot;\n",
       "</td>\n",
       "<td>\n",
       "54\n",
       "</td>\n",
       "<td>\n",
       "&quot;5d36574f52495e...\n",
       "</td>\n",
       "</tr>\n",
       "<tr>\n",
       "<td>\n",
       "&quot;00006413d8573c...\n",
       "</td>\n",
       "<td>\n",
       "1.0\n",
       "</td>\n",
       "<td>\n",
       "1.0\n",
       "</td>\n",
       "<td>\n",
       "&quot;ACTIVE&quot;\n",
       "</td>\n",
       "<td>\n",
       "&quot;Regularly&quot;\n",
       "</td>\n",
       "<td>\n",
       "52\n",
       "</td>\n",
       "<td>\n",
       "&quot;25fa5ddee9aac0...\n",
       "</td>\n",
       "</tr>\n",
       "</tbody>\n",
       "</table>\n",
       "</div>"
      ],
      "text/plain": [
       "shape: (5, 7)\n",
       "┌───────────────────┬──────┬────────┬──────────────────┬──────────────────┬─────┬──────────────────┐\n",
       "│ customer_id       ┆ FN   ┆ Active ┆ club_member_stat ┆ fashion_news_fre ┆ age ┆ postal_code      │\n",
       "│ ---               ┆ ---  ┆ ---    ┆ us               ┆ quency           ┆ --- ┆ ---              │\n",
       "│ str               ┆ f64  ┆ f64    ┆ ---              ┆ ---              ┆ i64 ┆ str              │\n",
       "│                   ┆      ┆        ┆ str              ┆ str              ┆     ┆                  │\n",
       "╞═══════════════════╪══════╪════════╪══════════════════╪══════════════════╪═════╪══════════════════╡\n",
       "│ 00000dbacae5abe5e ┆ null ┆ null   ┆ ACTIVE           ┆ NONE             ┆ 49  ┆ 52043ee2162cf5aa │\n",
       "│ 23885899a1fa442.. ┆      ┆        ┆                  ┆                  ┆     ┆ 7ee79974281641c6 │\n",
       "│ .                 ┆      ┆        ┆                  ┆                  ┆     ┆ ...              │\n",
       "│ 0000423b00ade9141 ┆ null ┆ null   ┆ ACTIVE           ┆ NONE             ┆ 25  ┆ 2973abc54daa8a5f │\n",
       "│ 8cceaf3b26c6af3.. ┆      ┆        ┆                  ┆                  ┆     ┆ 8ccfe9362140c632 │\n",
       "│ .                 ┆      ┆        ┆                  ┆                  ┆     ┆ ...              │\n",
       "│ 000058a12d5b43e67 ┆ null ┆ null   ┆ ACTIVE           ┆ NONE             ┆ 24  ┆ 64f17e6a330a8579 │\n",
       "│ d225668fa1f8d61.. ┆      ┆        ┆                  ┆                  ┆     ┆ 8e4998f62d0930d1 │\n",
       "│ .                 ┆      ┆        ┆                  ┆                  ┆     ┆ ...              │\n",
       "│ 00005ca1c9ed5f514 ┆ null ┆ null   ┆ ACTIVE           ┆ NONE             ┆ 54  ┆ 5d36574f52495e81 │\n",
       "│ 6b52ac8639a40ca.. ┆      ┆        ┆                  ┆                  ┆     ┆ f019b680c843c443 │\n",
       "│ .                 ┆      ┆        ┆                  ┆                  ┆     ┆ ...              │\n",
       "│ 00006413d8573cd20 ┆ 1.0  ┆ 1.0    ┆ ACTIVE           ┆ Regularly        ┆ 52  ┆ 25fa5ddee9aac01b │\n",
       "│ ed7128e53b7b138.. ┆      ┆        ┆                  ┆                  ┆     ┆ 35208d01736e5794 │\n",
       "│ .                 ┆      ┆        ┆                  ┆                  ┆     ┆ ...              │\n",
       "└───────────────────┴──────┴────────┴──────────────────┴──────────────────┴─────┴──────────────────┘"
      ]
     },
     "execution_count": 4,
     "metadata": {},
     "output_type": "execute_result"
    }
   ],
   "source": [
    "df_c.head()"
   ]
  },
  {
   "cell_type": "code",
   "execution_count": 8,
   "id": "80e3edb5",
   "metadata": {},
   "outputs": [
    {
     "ename": "SyntaxError",
     "evalue": "invalid syntax (1470642642.py, line 1)",
     "output_type": "error",
     "traceback": [
      "\u001b[0;36m  Cell \u001b[0;32mIn[8], line 1\u001b[0;36m\u001b[0m\n\u001b[0;31m    submission = pl.DataFrame(schema={\"customer_id\": pl.list, \"prediction\"})\u001b[0m\n\u001b[0m                                                                          ^\u001b[0m\n\u001b[0;31mSyntaxError\u001b[0m\u001b[0;31m:\u001b[0m invalid syntax\n"
     ]
    }
   ],
   "source": [
    "submission = pl.DataFrame(schema={\"customer_id\": pl.list, \"prediction\"})"
   ]
  },
  {
   "cell_type": "code",
   "execution_count": 14,
   "id": "dd59afd9",
   "metadata": {},
   "outputs": [
    {
     "ename": "ValueError",
     "evalue": "Series constructor called with unsupported type; got <class 'float'>",
     "output_type": "error",
     "traceback": [
      "\u001b[0;31m---------------------------------------------------------------------------\u001b[0m",
      "\u001b[0;31mValueError\u001b[0m                                Traceback (most recent call last)",
      "Cell \u001b[0;32mIn[14], line 1\u001b[0m\n\u001b[0;32m----> 1\u001b[0m submission\u001b[38;5;241m.\u001b[39minsert_at_idx(submission\u001b[38;5;241m.\u001b[39mheight, \u001b[43mpl\u001b[49m\u001b[38;5;241;43m.\u001b[39;49m\u001b[43mSeries\u001b[49m\u001b[43m(\u001b[49m\u001b[38;5;124;43m'\u001b[39;49m\u001b[38;5;124;43ma\u001b[39;49m\u001b[38;5;124;43m'\u001b[39;49m\u001b[43m,\u001b[49m\u001b[43m \u001b[49m\u001b[38;5;241;43m1.0\u001b[39;49m\u001b[43m)\u001b[49m)\n",
      "File \u001b[0;32m~/.local/lib/python3.8/site-packages/polars/internals/series/series.py:297\u001b[0m, in \u001b[0;36mSeries.__init__\u001b[0;34m(self, name, values, dtype, strict, nan_to_null, dtype_if_empty)\u001b[0m\n\u001b[1;32m    289\u001b[0m     \u001b[38;5;28mself\u001b[39m\u001b[38;5;241m.\u001b[39m_s \u001b[38;5;241m=\u001b[39m iterable_to_pyseries(\n\u001b[1;32m    290\u001b[0m         name,\n\u001b[1;32m    291\u001b[0m         values,\n\u001b[0;32m   (...)\u001b[0m\n\u001b[1;32m    294\u001b[0m         dtype_if_empty\u001b[38;5;241m=\u001b[39mdtype_if_empty,\n\u001b[1;32m    295\u001b[0m     )\n\u001b[1;32m    296\u001b[0m \u001b[38;5;28;01melse\u001b[39;00m:\n\u001b[0;32m--> 297\u001b[0m     \u001b[38;5;28;01mraise\u001b[39;00m \u001b[38;5;167;01mValueError\u001b[39;00m(\n\u001b[1;32m    298\u001b[0m         \u001b[38;5;124mf\u001b[39m\u001b[38;5;124m\"\u001b[39m\u001b[38;5;124mSeries constructor called with unsupported type; got \u001b[39m\u001b[38;5;132;01m{\u001b[39;00m\u001b[38;5;28mtype\u001b[39m(values)\u001b[38;5;132;01m}\u001b[39;00m\u001b[38;5;124m\"\u001b[39m\n\u001b[1;32m    299\u001b[0m     )\n",
      "\u001b[0;31mValueError\u001b[0m: Series constructor called with unsupported type; got <class 'float'>"
     ]
    }
   ],
   "source": [
    "submission.insert_at_idx(submission.height)"
   ]
  },
  {
   "cell_type": "code",
   "execution_count": 5,
   "id": "ba063077",
   "metadata": {},
   "outputs": [
    {
     "data": {
      "text/html": [
       "<div>\n",
       "<style>\n",
       ".pl-dataframe > thead > tr > th {\n",
       "  text-align: right;\n",
       "}\n",
       "</style>\n",
       "\n",
       "<table border=\"1\" class=\"dataframe pl-dataframe\">\n",
       "<small>shape: (0,)</small>\n",
       "<thead>\n",
       "<tr>\n",
       "<th>\n",
       "\n",
       "</th>\n",
       "</tr>\n",
       "<tr>\n",
       "<td>\n",
       "f32\n",
       "</td>\n",
       "</tr>\n",
       "</thead>\n",
       "<tbody>\n",
       "</tbody>\n",
       "</table>\n",
       "</div>"
      ],
      "text/plain": [
       "shape: (0,)\n",
       "Series: '' [f32]\n",
       "[\n",
       "]"
      ]
     },
     "execution_count": 5,
     "metadata": {},
     "output_type": "execute_result"
    }
   ],
   "source": [
    "test = pl.Series()\n",
    "test"
   ]
  },
  {
   "cell_type": "code",
   "execution_count": 37,
   "id": "da659a3f",
   "metadata": {},
   "outputs": [
    {
     "data": {
      "text/html": [
       "<div>\n",
       "<style>\n",
       ".pl-dataframe > thead > tr > th {\n",
       "  text-align: right;\n",
       "}\n",
       "</style>\n",
       "\n",
       "<table border=\"1\" class=\"dataframe pl-dataframe\">\n",
       "<small>shape: (1, 2)</small>\n",
       "<thead>\n",
       "<tr>\n",
       "<th>\n",
       "customer_id\n",
       "</th>\n",
       "<th>\n",
       "articles\n",
       "</th>\n",
       "</tr>\n",
       "<tr>\n",
       "<td>\n",
       "str\n",
       "</td>\n",
       "<td>\n",
       "list[str]\n",
       "</td>\n",
       "</tr>\n",
       "</thead>\n",
       "<tbody>\n",
       "<tr>\n",
       "<td>\n",
       "&quot;temp&quot;\n",
       "</td>\n",
       "<td>\n",
       "[&quot;temp&quot;]\n",
       "</td>\n",
       "</tr>\n",
       "</tbody>\n",
       "</table>\n",
       "</div>"
      ],
      "text/plain": [
       "shape: (1, 2)\n",
       "┌─────────────┬───────────┐\n",
       "│ customer_id ┆ articles  │\n",
       "│ ---         ┆ ---       │\n",
       "│ str         ┆ list[str] │\n",
       "╞═════════════╪═══════════╡\n",
       "│ temp        ┆ [\"temp\"]  │\n",
       "└─────────────┴───────────┘"
      ]
     },
     "execution_count": 37,
     "metadata": {},
     "output_type": "execute_result"
    }
   ],
   "source": [
    "test = pl.DataFrame([[\"temp\"], [['temp']]], schema={\"customer_id\": str , \"articles\": pl.List(inner=str)})\n",
    "test"
   ]
  },
  {
   "cell_type": "code",
   "execution_count": 55,
   "id": "ff50fd1c",
   "metadata": {},
   "outputs": [
    {
     "data": {
      "text/html": [
       "<div>\n",
       "<style>\n",
       ".pl-dataframe > thead > tr > th {\n",
       "  text-align: right;\n",
       "}\n",
       "</style>\n",
       "\n",
       "<table border=\"1\" class=\"dataframe pl-dataframe\">\n",
       "<small>shape: (1, 2)</small>\n",
       "<thead>\n",
       "<tr>\n",
       "<th>\n",
       "customer_id\n",
       "</th>\n",
       "<th>\n",
       "articles\n",
       "</th>\n",
       "</tr>\n",
       "<tr>\n",
       "<td>\n",
       "str\n",
       "</td>\n",
       "<td>\n",
       "list[str]\n",
       "</td>\n",
       "</tr>\n",
       "</thead>\n",
       "<tbody>\n",
       "<tr>\n",
       "<td>\n",
       "&quot;test&quot;\n",
       "</td>\n",
       "<td>\n",
       "[&quot;test&quot;, &quot;temp&quot;]\n",
       "</td>\n",
       "</tr>\n",
       "</tbody>\n",
       "</table>\n",
       "</div>"
      ],
      "text/plain": [
       "shape: (1, 2)\n",
       "┌─────────────┬──────────────────┐\n",
       "│ customer_id ┆ articles         │\n",
       "│ ---         ┆ ---              │\n",
       "│ str         ┆ list[str]        │\n",
       "╞═════════════╪══════════════════╡\n",
       "│ test        ┆ [\"test\", \"temp\"] │\n",
       "└─────────────┴──────────────────┘"
      ]
     },
     "execution_count": 55,
     "metadata": {},
     "output_type": "execute_result"
    }
   ],
   "source": [
    "temp = pl.DataFrame([[\"test\"], [pl.Series(['test', 'temp'])]], schema={\"customer_id\": str , \"articles\": pl.List(inner=str)})\n",
    "temp"
   ]
  },
  {
   "cell_type": "code",
   "execution_count": 46,
   "id": "fce53998",
   "metadata": {},
   "outputs": [
    {
     "data": {
      "text/html": [
       "<div>\n",
       "<style>\n",
       ".pl-dataframe > thead > tr > th {\n",
       "  text-align: right;\n",
       "}\n",
       "</style>\n",
       "\n",
       "<table border=\"1\" class=\"dataframe pl-dataframe\">\n",
       "<small>shape: (2, 2)</small>\n",
       "<thead>\n",
       "<tr>\n",
       "<th>\n",
       "customer_id\n",
       "</th>\n",
       "<th>\n",
       "articles\n",
       "</th>\n",
       "</tr>\n",
       "<tr>\n",
       "<td>\n",
       "str\n",
       "</td>\n",
       "<td>\n",
       "list[str]\n",
       "</td>\n",
       "</tr>\n",
       "</thead>\n",
       "<tbody>\n",
       "<tr>\n",
       "<td>\n",
       "&quot;temp&quot;\n",
       "</td>\n",
       "<td>\n",
       "[&quot;temp&quot;]\n",
       "</td>\n",
       "</tr>\n",
       "<tr>\n",
       "<td>\n",
       "&quot;test&quot;\n",
       "</td>\n",
       "<td>\n",
       "[&quot;test&quot;]\n",
       "</td>\n",
       "</tr>\n",
       "</tbody>\n",
       "</table>\n",
       "</div>"
      ],
      "text/plain": [
       "shape: (2, 2)\n",
       "┌─────────────┬───────────┐\n",
       "│ customer_id ┆ articles  │\n",
       "│ ---         ┆ ---       │\n",
       "│ str         ┆ list[str] │\n",
       "╞═════════════╪═══════════╡\n",
       "│ temp        ┆ [\"temp\"]  │\n",
       "│ test        ┆ [\"test\"]  │\n",
       "└─────────────┴───────────┘"
      ]
     },
     "execution_count": 46,
     "metadata": {},
     "output_type": "execute_result"
    }
   ],
   "source": [
    "test.vstack(temp)"
   ]
  },
  {
   "cell_type": "code",
   "execution_count": 56,
   "id": "ad161473",
   "metadata": {},
   "outputs": [
    {
     "data": {
      "text/plain": [
       "[shape: (2,)\n",
       " Series: '' [str]\n",
       " [\n",
       " \t\"test\"\n",
       " \t\"temp\"\n",
       " ]]"
      ]
     },
     "execution_count": 56,
     "metadata": {},
     "output_type": "execute_result"
    }
   ],
   "source": [
    "[pl.Series(['test', 'temp'])]"
   ]
  },
  {
   "cell_type": "code",
   "execution_count": null,
   "id": "a03d1e3a",
   "metadata": {},
   "outputs": [],
   "source": []
  }
 ],
 "metadata": {
  "kernelspec": {
   "display_name": "Python 3 (ipykernel)",
   "language": "python",
   "name": "python3"
  },
  "language_info": {
   "codemirror_mode": {
    "name": "ipython",
    "version": 3
   },
   "file_extension": ".py",
   "mimetype": "text/x-python",
   "name": "python",
   "nbconvert_exporter": "python",
   "pygments_lexer": "ipython3",
   "version": "3.8.10"
  }
 },
 "nbformat": 4,
 "nbformat_minor": 5
}
